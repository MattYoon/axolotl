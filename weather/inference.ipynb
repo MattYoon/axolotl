{
 "cells": [
  {
   "cell_type": "code",
   "execution_count": 1,
   "metadata": {},
   "outputs": [
    {
     "name": "stderr",
     "output_type": "stream",
     "text": [
      "/home/dongkeun/miniconda3/envs/torch/lib/python3.9/site-packages/transformers/utils/hub.py:124: FutureWarning: Using `TRANSFORMERS_CACHE` is deprecated and will be removed in v5 of Transformers. Use `HF_HOME` instead.\n",
      "  warnings.warn(\n"
     ]
    },
    {
     "data": {
      "application/vnd.jupyter.widget-view+json": {
       "model_id": "a8d298bbff9a4de2aa57dbfacfd51707",
       "version_major": 2,
       "version_minor": 0
      },
      "text/plain": [
       "Downloading shards:   0%|          | 0/5 [00:00<?, ?it/s]"
      ]
     },
     "metadata": {},
     "output_type": "display_data"
    },
    {
     "data": {
      "application/vnd.jupyter.widget-view+json": {
       "model_id": "4f982ad63521431e9d4ec782e64b4a25",
       "version_major": 2,
       "version_minor": 0
      },
      "text/plain": [
       "Loading checkpoint shards:   0%|          | 0/5 [00:00<?, ?it/s]"
      ]
     },
     "metadata": {},
     "output_type": "display_data"
    }
   ],
   "source": [
    "#export TRANSFORMERS_CACHE=/mnt/sda/dongkeun/huggingface\n",
    "\n",
    "import os\n",
    "os.environ['TRANSFORMERS_CACHE'] = '/mnt/sda/dongkeun/huggingface'\n",
    "\n",
    "from transformers import AutoModelForCausalLM, AutoTokenizer\n",
    "from peft import AutoPeftModelForCausalLM\n",
    "import torch\n",
    "\n",
    "DEVICE = 'cuda:2'\n",
    "\n",
    "tokenizer = AutoTokenizer.from_pretrained('/home/dongkeun/axolotl/axolotl/checkpoints/orca-wiki-alpaca-lima-aya-elo')\n",
    "model = AutoPeftModelForCausalLM.from_pretrained('/home/dongkeun/axolotl/axolotl/checkpoints/orca-wiki-alpaca-lima-aya-elo/checkpoint-141', torch_dtype=torch.bfloat16).to(DEVICE)"
   ]
  },
  {
   "cell_type": "code",
   "execution_count": 4,
   "metadata": {},
   "outputs": [
    {
     "name": "stdout",
     "output_type": "stream",
     "text": [
      "<|im_start|>system\n",
      "You are a helpful assistant.<|im_end|>\n",
      "<|im_start|>user\n",
      "\n",
      "과일 가게에는 복숭아, 망고, 그리고 사과, 총 3개의 과일을 팔고 있습니다. 복숭아는 사과보다 비쌉니다. 망고가 가장 저렴합니다.\n",
      "선택지:\n",
      "(A) 복숭아가 두번째로 비쌉니다. (B) 망고가 두번째로 비쌉니다. (C) 사과가 두번째로 비쌉니다.\n",
      "\n",
      "정답을 말하기 전, 생각을 단계별로 차근차근 먼저 말하고 마지막에 정답을 말하세요.\n",
      "<|im_end|>\n",
      "<|im_start|>assistant\n",
      "\n"
     ]
    }
   ],
   "source": [
    "content = '''\n",
    "과일 가게에는 복숭아, 망고, 그리고 사과, 총 3개의 과일을 팔고 있습니다. 복숭아는 사과보다 비쌉니다. 망고가 가장 저렴합니다.\n",
    "선택지:\n",
    "(A) 복숭아가 두번째로 비쌉니다. (B) 망고가 두번째로 비쌉니다. (C) 사과가 두번째로 비쌉니다.\n",
    "\n",
    "정답을 말하기 전, 생각을 단계별로 차근차근 먼저 말하고 마지막에 정답을 말하세요.\n",
    "'''\n",
    "\n",
    "messages = [\n",
    "    {\"role\": \"user\", \"content\": content},\n",
    "]\n",
    "\n",
    "encodeds = tokenizer.apply_chat_template(messages, tokenize=False, add_generation_prompt=True)\n",
    "print(encodeds)\n",
    "encodeds = tokenizer.apply_chat_template(messages, return_tensors='pt', add_generation_prompt=True)"
   ]
  },
  {
   "cell_type": "code",
   "execution_count": 5,
   "metadata": {},
   "outputs": [
    {
     "name": "stderr",
     "output_type": "stream",
     "text": [
      "The attention mask and the pad token id were not set. As a consequence, you may observe unexpected behavior. Please pass your input's `attention_mask` to obtain reliable results.\n",
      "Setting `pad_token_id` to `eos_token_id`:32000 for open-end generation.\n"
     ]
    },
    {
     "name": "stdout",
     "output_type": "stream",
     "text": [
      "<|im_start|>system\n",
      "You are a helpful assistant.<|im_end|> \n",
      "<|im_start|>user\n",
      "\n",
      "과일 가게에는 복숭아, 망고, 그리고 사과, 총 3개의 과일을 팔고 있습니다. 복숭아는 사과보다 비쌉니다. 망고가 가장 저렴합니다.\n",
      "선택지:\n",
      "(A) 복숭아가 두번째로 비쌉니다. (B) 망고가 두번째로 비쌉니다. (C) 사과가 두번째로 비쌉니다.\n",
      "\n",
      "정답을 말하기 전, 생각을 단계별로 차근차근 먼저 말하고 마지막에 정답을 말하세요.\n",
      "<|im_end|> \n",
      "<|im_start|>assistant\n",
      "먼저 복숭아, 망고, 사과의 가격 순서를 파악해야 합니다. 복숭아는 사과보다 비싸다는 것을 알고 있으므로 복숭아 > 사과라고 쓸 수 있습니다. 또한 망고가 가장 저렴하다는 것을 알고 있으므로 망고 < 복숭아 < 사과라고 쓸 수 있습니다. 이제 망고가 두 번째로 저렴한 과일이라는 것을 알 수 있으므로 정답은 (B) 망고가 두 번째로 저렴하다입니다.<|im_end|>\n"
     ]
    }
   ],
   "source": [
    "model_inputs = encodeds.to(DEVICE)\n",
    "generated_ids = model.generate(model_inputs, max_new_tokens=256, do_sample=False, eos_token_id=tokenizer.eos_token_id)\n",
    "decoded = tokenizer.batch_decode(generated_ids)\n",
    "print(decoded[0])"
   ]
  },
  {
   "cell_type": "code",
   "execution_count": null,
   "metadata": {},
   "outputs": [],
   "source": []
  }
 ],
 "metadata": {
  "kernelspec": {
   "display_name": "torch",
   "language": "python",
   "name": "python3"
  },
  "language_info": {
   "codemirror_mode": {
    "name": "ipython",
    "version": 3
   },
   "file_extension": ".py",
   "mimetype": "text/x-python",
   "name": "python",
   "nbconvert_exporter": "python",
   "pygments_lexer": "ipython3",
   "version": "3.9.16"
  },
  "orig_nbformat": 4
 },
 "nbformat": 4,
 "nbformat_minor": 2
}
