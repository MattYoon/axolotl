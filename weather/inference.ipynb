{
 "cells": [
  {
   "cell_type": "code",
   "execution_count": 1,
   "metadata": {},
   "outputs": [
    {
     "name": "stderr",
     "output_type": "stream",
     "text": [
      "/data/dongkeun/miniconda3/envs/torch/lib/python3.10/site-packages/tqdm/auto.py:21: TqdmWarning: IProgress not found. Please update jupyter and ipywidgets. See https://ipywidgets.readthedocs.io/en/stable/user_install.html\n",
      "  from .autonotebook import tqdm as notebook_tqdm\n",
      "Loading checkpoint shards: 100%|██████████| 5/5 [00:03<00:00,  1.35it/s]\n"
     ]
    }
   ],
   "source": [
    "#export TRANSFORMERS_CACHE=/mnt/sda/dongkeun/huggingface\n",
    "\n",
    "from transformers import AutoModelForCausalLM, AutoTokenizer\n",
    "from peft import AutoPeftModelForCausalLM\n",
    "import torch\n",
    "\n",
    "DEVICE = 'cuda:5'\n",
    "\n",
    "tokenizer = AutoTokenizer.from_pretrained('/data/dongkeun/axolotl/checkpoints/yanolja-hermes_en-orca-wiki-alpaca-lima')\n",
    "model = AutoPeftModelForCausalLM.from_pretrained('/data/dongkeun/axolotl/checkpoints/yanolja-hermes_en-orca-wiki-alpaca-lima', torch_dtype=torch.bfloat16).to(DEVICE)"
   ]
  },
  {
   "cell_type": "code",
   "execution_count": 20,
   "metadata": {},
   "outputs": [
    {
     "name": "stdout",
     "output_type": "stream",
     "text": [
      "<|im_start|>system\n",
      "You are a helpful assistant.<|im_end|>\n",
      "<|im_start|>user\n",
      "\n",
      "만약 아인슈타인이 조선시대에 태어났다면 어떤 발견을 했을까?\n",
      "<|im_end|>\n",
      "<|im_start|>assistant\n",
      "\n"
     ]
    }
   ],
   "source": [
    "content = '''\n",
    "만약 아인슈타인이 조선시대에 태어났다면 어떤 발견을 했을까?\n",
    "'''\n",
    "\n",
    "messages = [\n",
    "    {\"role\": \"user\", \"content\": content},\n",
    "]\n",
    "\n",
    "encodeds = tokenizer.apply_chat_template(messages, tokenize=False, add_generation_prompt=True)\n",
    "print(encodeds)\n",
    "encodeds = tokenizer.apply_chat_template(messages, return_tensors='pt', add_generation_prompt=True)"
   ]
  },
  {
   "cell_type": "code",
   "execution_count": 21,
   "metadata": {},
   "outputs": [
    {
     "name": "stderr",
     "output_type": "stream",
     "text": [
      "The attention mask and the pad token id were not set. As a consequence, you may observe unexpected behavior. Please pass your input's `attention_mask` to obtain reliable results.\n",
      "Setting `pad_token_id` to `eos_token_id`:32000 for open-end generation.\n"
     ]
    },
    {
     "name": "stdout",
     "output_type": "stream",
     "text": [
      "<|im_start|>system\n",
      "You are a helpful assistant.<|im_end|> \n",
      "<|im_start|>user\n",
      "\n",
      "만약 아인슈타인이 조선시대에 태어났다면 어떤 발견을 했을까?\n",
      "<|im_end|> \n",
      "<|im_start|>assistant\n",
      "아인슈타인이 조선시대에 태어났다면, 그는 천문학자로서 천문관측에 큰 공헌을 했을 것입니다. 또한, 조선시대에는 천문관측에 대한 관심이 높았기 때문에 아인슈타인은 천문관측에 대한 연구를 통해 새로운 발견을 할 수 있었을 것입니다. 또한, 조선시대에는 천문관측에 대한 관심이 높았기 때문에 아인슈타인은 천문관측에 대한 연구를 통해 새로운 발견을 할 수 있었을 것입니다.<|im_end|>\n"
     ]
    },
    {
     "ename": "",
     "evalue": "",
     "output_type": "error",
     "traceback": [
      "\u001b[1;31mThe Kernel crashed while executing code in the the current cell or a previous cell. Please review the code in the cell(s) to identify a possible cause of the failure. Click <a href='https://aka.ms/vscodeJupyterKernelCrash'>here</a> for more info. View Jupyter <a href='command:jupyter.viewOutput'>log</a> for further details."
     ]
    }
   ],
   "source": [
    "model_inputs = encodeds.to(DEVICE)\n",
    "generated_ids = model.generate(model_inputs, max_new_tokens=512, do_sample=False, eos_token_id=tokenizer.eos_token_id)\n",
    "decoded = tokenizer.batch_decode(generated_ids)\n",
    "print(decoded[0])"
   ]
  },
  {
   "cell_type": "code",
   "execution_count": null,
   "metadata": {},
   "outputs": [],
   "source": []
  }
 ],
 "metadata": {
  "kernelspec": {
   "display_name": "torch",
   "language": "python",
   "name": "python3"
  },
  "language_info": {
   "codemirror_mode": {
    "name": "ipython",
    "version": 3
   },
   "file_extension": ".py",
   "mimetype": "text/x-python",
   "name": "python",
   "nbconvert_exporter": "python",
   "pygments_lexer": "ipython3",
   "version": "3.10.13"
  },
  "orig_nbformat": 4
 },
 "nbformat": 4,
 "nbformat_minor": 2
}
